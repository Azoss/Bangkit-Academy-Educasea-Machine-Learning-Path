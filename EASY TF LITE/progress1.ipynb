{
  "nbformat": 4,
  "nbformat_minor": 0,
  "metadata": {
    "colab": {
      "provenance": []
    },
    "kernelspec": {
      "name": "python3",
      "display_name": "Python 3"
    },
    "language_info": {
      "name": "python"
    }
  },
  "cells": [
    {
      "cell_type": "markdown",
      "source": [
        "**Easy to train model tensorflow lite uhuyy #watermarkbyiskandarsaputra**\n"
      ],
      "metadata": {
        "id": "jU_hYUNCCyEh"
      }
    },
    {
      "cell_type": "markdown",
      "source": [
        "Import semua kebutuhan libary\n"
      ],
      "metadata": {
        "id": "h9SBf2T_AIVg"
      }
    },
    {
      "cell_type": "code",
      "execution_count": 1,
      "metadata": {
        "id": "3IyCIeAJAFQu"
      },
      "outputs": [],
      "source": [
        "import gdown\n",
        "import os\n",
        "import zipfile\n",
        "import random\n",
        "import shutil\n",
        "import tensorflow as tf\n",
        "from tensorflow.keras.preprocessing.image import ImageDataGenerator\n",
        "from shutil import copyfile\n",
        "import matplotlib.pyplot as plt"
      ]
    },
    {
      "cell_type": "markdown",
      "source": [
        "cek apakah tensorflow berhasil di import"
      ],
      "metadata": {
        "id": "5AJkCInKCtI6"
      }
    },
    {
      "cell_type": "code",
      "source": [
        "print(\"Versi gdown:\", gdown.__version__)\n",
        "print(\"Versi TensorFlow:\", tf.__version__)"
      ],
      "metadata": {
        "colab": {
          "base_uri": "https://localhost:8080/"
        },
        "id": "CqEcPh5sBAsH",
        "outputId": "71ca7600-b9c5-446f-af68-ded991ab20ee"
      },
      "execution_count": 11,
      "outputs": [
        {
          "output_type": "stream",
          "name": "stdout",
          "text": [
            "Versi gdown: 4.6.6\n",
            "Versi TensorFlow: 2.14.0\n"
          ]
        }
      ]
    },
    {
      "cell_type": "markdown",
      "source": [
        "mengonversi ukuran file dari byte ke unit yang lebih besar, seperti kilobyte (KB) atau megabyte (MB). Fungsi ini memiliki dua parameter:\n",
        "\n",
        "size: Parameter pertama adalah ukuran file dalam byte yang ingin Anda konversi.\n",
        "\n",
        "unit: Parameter opsional kedua adalah unit yang diinginkan untuk konversi.\n",
        "Jika unit tidak ditentukan atau nilainya tidak sama dengan \"KB\" atau \"MB\", maka fungsi akan langsung mencetak ukuran file dalam"
      ],
      "metadata": {
        "id": "YolspFX6CoD9"
      }
    },
    {
      "cell_type": "code",
      "source": [
        "def convert_bytes(size, unit=None):\n",
        "    if unit == \"KB\":\n",
        "        return print('File size: ' + str(round(size / 1024, 3)) + ' Kilobytes')\n",
        "    elif unit == \"MB\":\n",
        "        return print('File size: ' + str(round(size / (1024 * 1024), 3)) + ' Megabytes')\n",
        "    else:\n",
        "        return print('File size: ' + str(size) + ' bytes')"
      ],
      "metadata": {
        "id": "THZCv_m3Clhq"
      },
      "execution_count": null,
      "outputs": []
    },
    {
      "cell_type": "code",
      "source": [
        "# set up environment\n",
        "os.environ[\"DATASET_DIRECTORY\"] = \"/content/datasets\""
      ],
      "metadata": {
        "id": "ea7a916rd3JV"
      },
      "execution_count": null,
      "outputs": []
    },
    {
      "cell_type": "markdown",
      "source": [
        "load dataset yang akan dibuat model pastikan sudah melabeling custom dataset (www.roboflow.com) referensi untuk melabeling custom dataset  FORMAT = JSON (coco) !!!!"
      ],
      "metadata": {
        "id": "UoeK5fvSW_5B"
      }
    },
    {
      "cell_type": "code",
      "source": [
        "#after following the link above, recieve python code with these fields filled in\n",
        "#from roboflow import Roboflow\n",
        "#rf = Roboflow(api_key=\"YOUR API KEY HERE\")\n",
        "#project = rf.workspace().project(\"YOUR PROJECT\")\n",
        "#dataset = project.version(\"YOUR VERSION\").download(\"yolov5\")"
      ],
      "metadata": {
        "id": "sE-RS4ZOITg3"
      },
      "execution_count": null,
      "outputs": []
    },
    {
      "cell_type": "markdown",
      "source": [
        "preview dataset melihat jumlah image dan image size masing masing gambar berupa pixel"
      ],
      "metadata": {
        "id": "al8j_8zFZz_a"
      }
    },
    {
      "cell_type": "code",
      "source": [
        "train_images.shape"
      ],
      "metadata": {
        "id": "b-E6c7ovXwI0"
      },
      "execution_count": null,
      "outputs": []
    },
    {
      "cell_type": "markdown",
      "source": [
        "melihat jumlah label dalam train"
      ],
      "metadata": {
        "id": "vwu_lj4faj1X"
      }
    },
    {
      "cell_type": "code",
      "source": [
        "len(train_labels)"
      ],
      "metadata": {
        "id": "Y2IkyeG8angD"
      },
      "execution_count": null,
      "outputs": []
    },
    {
      "cell_type": "code",
      "source": [
        "np.unique(train_labels)"
      ],
      "metadata": {
        "id": "ZvOReNclcSkL"
      },
      "execution_count": null,
      "outputs": []
    },
    {
      "cell_type": "code",
      "source": [
        "test_images.shape"
      ],
      "metadata": {
        "id": "Fs5tTUofRb0T"
      },
      "execution_count": null,
      "outputs": []
    },
    {
      "cell_type": "code",
      "source": [
        "len(test_labels)"
      ],
      "metadata": {
        "id": "VrxNZjKuResJ"
      },
      "execution_count": null,
      "outputs": []
    },
    {
      "cell_type": "code",
      "source": [
        "plt.figure()\n",
        "plt.imshow(train_images[88])\n",
        "plt.colorbar()\n",
        "plt.grid(False)\n",
        "plt.show()"
      ],
      "metadata": {
        "id": "qi5VMDlPRgXs"
      },
      "execution_count": null,
      "outputs": []
    },
    {
      "cell_type": "code",
      "source": [
        "train_images = train_images / 255.0\n",
        "test_images = test_images / 255.0"
      ],
      "metadata": {
        "id": "Hd_Awr6sRjIs"
      },
      "execution_count": null,
      "outputs": []
    },
    {
      "cell_type": "code",
      "source": [
        "model = keras.Sequential([\n",
        "    Flatten(input_shape=(28, 28)),\n",
        "    Dense(128, activation='relu'),\n",
        "    Dense(10)\n",
        "])"
      ],
      "metadata": {
        "id": "lxl3p6pJRlsn"
      },
      "execution_count": null,
      "outputs": []
    },
    {
      "cell_type": "code",
      "source": [
        "model.compile(optimizer='adam',\n",
        "              loss= SparseCategoricalCrossentropy(from_logits=True),\n",
        "              metrics=['accuracy'])"
      ],
      "metadata": {
        "id": "7KDXztd7RoqI"
      },
      "execution_count": null,
      "outputs": []
    }
  ]
}